{
 "cells": [
  {
   "cell_type": "code",
   "execution_count": 1,
   "id": "3e4149ad-2a9c-429e-bb90-b1da7835140b",
   "metadata": {},
   "outputs": [],
   "source": [
    "#Q1. Which function is used to open a file? What are the different modes of opening a file? Explain each mode of file opening.\n",
    "#Q2. Why close() function is used? Why is it important to close a file?\n",
    "#Q3. Write a python program to create a text file. Write ‘I want to become a Data Scientist’ in that file. Thenclose the file.\n",
    "#Open this file and read the content of the file.\n",
    "#Q4. Explain the following with python code: read(), readline() and readlines().\n",
    "#Q5. Explain why with statement is used with open(). What is the advantage of using with statement and open() together?\n",
    "#Q6. Explain the write() and writelines() functions. Give a suitable example."
   ]
  },
  {
   "cell_type": "code",
   "execution_count": 2,
   "id": "9eda4b82-fbe4-4576-a4c4-f1f8a684e24d",
   "metadata": {},
   "outputs": [],
   "source": [
    "#Question 1\n",
    "file=open(\"assignment.files\",'w') #open example for write afile"
   ]
  },
  {
   "cell_type": "code",
   "execution_count": 3,
   "id": "16cd854b-fd4b-4ef9-acd4-e7cb599de5a2",
   "metadata": {},
   "outputs": [
    {
     "data": {
      "text/plain": [
       "'/home/jovyan/work'"
      ]
     },
     "execution_count": 3,
     "metadata": {},
     "output_type": "execute_result"
    }
   ],
   "source": [
    "pwd"
   ]
  },
  {
   "cell_type": "code",
   "execution_count": 5,
   "id": "9e02840f-4263-4cad-89da-710cda3cff47",
   "metadata": {},
   "outputs": [
    {
     "data": {
      "text/plain": [
       "26"
      ]
     },
     "execution_count": 5,
     "metadata": {},
     "output_type": "execute_result"
    }
   ],
   "source": [
    "file.write(\"this is my assignment file\")"
   ]
  },
  {
   "cell_type": "code",
   "execution_count": 7,
   "id": "2df1c99d-e82b-45f9-baf1-8090552ce389",
   "metadata": {},
   "outputs": [],
   "source": [
    "file.close()"
   ]
  },
  {
   "cell_type": "code",
   "execution_count": null,
   "id": "7e013f12-606f-4c95-99b7-826a1c9fb326",
   "metadata": {},
   "outputs": [],
   "source": [
    "#there are more different modes in opening a file -1.'w'(write mode) 2.'r'(read mode) 3.'t'(text mode) 4.'b'(binary mode) 5.'a'(append mode)"
   ]
  },
  {
   "cell_type": "code",
   "execution_count": 8,
   "id": "e375c8db-827e-405c-8df7-96455cf2b2a5",
   "metadata": {},
   "outputs": [],
   "source": [
    "file=open(\"assignment.files\",'r')"
   ]
  },
  {
   "cell_type": "code",
   "execution_count": 9,
   "id": "c76c61e8-5780-4b9c-8a37-ce140c4eeb47",
   "metadata": {},
   "outputs": [
    {
     "data": {
      "text/plain": [
       "'this is my assignment file'"
      ]
     },
     "execution_count": 9,
     "metadata": {},
     "output_type": "execute_result"
    }
   ],
   "source": [
    "file.read()"
   ]
  },
  {
   "cell_type": "code",
   "execution_count": 13,
   "id": "e9d92c72-8811-4e99-a80a-7c12e29db37b",
   "metadata": {},
   "outputs": [],
   "source": [
    "file=open(\"assignment.files\",'a')"
   ]
  },
  {
   "cell_type": "code",
   "execution_count": 15,
   "id": "e453579c-76eb-4464-a81c-f1401351ad35",
   "metadata": {},
   "outputs": [
    {
     "data": {
      "text/plain": [
       "23"
      ]
     },
     "execution_count": 15,
     "metadata": {},
     "output_type": "execute_result"
    }
   ],
   "source": [
    "file.write(\" this is my append file\")"
   ]
  },
  {
   "cell_type": "code",
   "execution_count": 16,
   "id": "c8725e68-ed5b-44ef-a0f0-56383af4cec8",
   "metadata": {},
   "outputs": [],
   "source": [
    "file.close()"
   ]
  },
  {
   "cell_type": "code",
   "execution_count": 57,
   "id": "0f916b51-d572-4eb6-b468-48f76bd82b96",
   "metadata": {},
   "outputs": [],
   "source": [
    "#Question.2\n",
    "#the closed function is used to close a file and other resourses to have opened for reading and writing for eg-\n",
    "with open (\"closed.file\",'w') as f:\n",
    "    f.write(\"this is my closed file\")\n",
    "    "
   ]
  },
  {
   "cell_type": "code",
   "execution_count": 59,
   "id": "1992a28f-e401-467b-8557-a4d552c1bc4c",
   "metadata": {},
   "outputs": [
    {
     "name": "stdout",
     "output_type": "stream",
     "text": [
      "this is my closed file\n"
     ]
    }
   ],
   "source": [
    "with open(\"closed.file\",'r')as f:\n",
    "    print(f.read())"
   ]
  },
  {
   "cell_type": "code",
   "execution_count": 17,
   "id": "34e06d54-e58f-456e-a0e4-a04d6276e8ab",
   "metadata": {},
   "outputs": [],
   "source": [
    "#Question 3"
   ]
  },
  {
   "cell_type": "code",
   "execution_count": 25,
   "id": "341a343c-9b4e-4ef9-998c-a055043e008c",
   "metadata": {},
   "outputs": [],
   "source": [
    "with open(\"ass_txt.file\",'w')as f:\n",
    "    f.write(\"i want to become the data scientist \")\n",
    "    f.close()"
   ]
  },
  {
   "cell_type": "code",
   "execution_count": 29,
   "id": "b30bcaf8-f312-4cf4-b725-a2ebca42863e",
   "metadata": {},
   "outputs": [
    {
     "name": "stdout",
     "output_type": "stream",
     "text": [
      "i want to become the data scientist \n"
     ]
    }
   ],
   "source": [
    "with open(\"ass_txt.file\",'r')as f:\n",
    "    print(f.read())"
   ]
  },
  {
   "cell_type": "code",
   "execution_count": 30,
   "id": "d8842eb5-9d25-46cc-802c-cd09f557fa83",
   "metadata": {},
   "outputs": [],
   "source": [
    "#question.4"
   ]
  },
  {
   "cell_type": "code",
   "execution_count": 38,
   "id": "569cab0c-5ca7-4a22-80a1-837f688a2530",
   "metadata": {},
   "outputs": [],
   "source": [
    "file=open(\"read.fie\",'w')"
   ]
  },
  {
   "cell_type": "code",
   "execution_count": 39,
   "id": "c43152a6-cb0d-4d6e-8cb8-da86c70ce97a",
   "metadata": {},
   "outputs": [
    {
     "data": {
      "text/plain": [
       "20"
      ]
     },
     "execution_count": 39,
     "metadata": {},
     "output_type": "execute_result"
    }
   ],
   "source": [
    "file.write(\"this is my read file\")"
   ]
  },
  {
   "cell_type": "code",
   "execution_count": 41,
   "id": "7ae7e663-b03a-4604-9c9b-bbac16253349",
   "metadata": {},
   "outputs": [],
   "source": [
    "file=open(\"read.fie\",'r')"
   ]
  },
  {
   "cell_type": "code",
   "execution_count": 42,
   "id": "7661e60f-a512-4ad1-bf42-2d3346c587a5",
   "metadata": {},
   "outputs": [
    {
     "data": {
      "text/plain": [
       "'this is my read file'"
      ]
     },
     "execution_count": 42,
     "metadata": {},
     "output_type": "execute_result"
    }
   ],
   "source": [
    "file.read()"
   ]
  },
  {
   "cell_type": "code",
   "execution_count": 43,
   "id": "eb9b0cf0-b522-4983-b23f-80f222afb1a1",
   "metadata": {},
   "outputs": [
    {
     "data": {
      "text/plain": [
       "''"
      ]
     },
     "execution_count": 43,
     "metadata": {},
     "output_type": "execute_result"
    }
   ],
   "source": [
    "file.readline()"
   ]
  },
  {
   "cell_type": "code",
   "execution_count": 47,
   "id": "d13d61be-9ba8-4c95-b362-e7407e4ba3d8",
   "metadata": {},
   "outputs": [
    {
     "data": {
      "text/plain": [
       "0"
      ]
     },
     "execution_count": 47,
     "metadata": {},
     "output_type": "execute_result"
    }
   ],
   "source": [
    "file.seek(0)"
   ]
  },
  {
   "cell_type": "code",
   "execution_count": 48,
   "id": "0493a671-9f15-482e-83ac-50709f9ce864",
   "metadata": {},
   "outputs": [
    {
     "data": {
      "text/plain": [
       "'this is my read file'"
      ]
     },
     "execution_count": 48,
     "metadata": {},
     "output_type": "execute_result"
    }
   ],
   "source": [
    "file.readline()"
   ]
  },
  {
   "cell_type": "code",
   "execution_count": 49,
   "id": "09674c90-304d-4afe-95f9-dba39b7b00a6",
   "metadata": {},
   "outputs": [
    {
     "data": {
      "text/plain": [
       "[]"
      ]
     },
     "execution_count": 49,
     "metadata": {},
     "output_type": "execute_result"
    }
   ],
   "source": [
    "file.readlines()"
   ]
  },
  {
   "cell_type": "code",
   "execution_count": 51,
   "id": "3e77e8a5-426a-459f-bb8c-7e46d1c1b4ce",
   "metadata": {},
   "outputs": [
    {
     "data": {
      "text/plain": [
       "1"
      ]
     },
     "execution_count": 51,
     "metadata": {},
     "output_type": "execute_result"
    }
   ],
   "source": [
    "file.seek(1)"
   ]
  },
  {
   "cell_type": "code",
   "execution_count": 52,
   "id": "6a09d28b-a89b-4aea-842a-05c257f335b5",
   "metadata": {},
   "outputs": [
    {
     "data": {
      "text/plain": [
       "['his is my read file']"
      ]
     },
     "execution_count": 52,
     "metadata": {},
     "output_type": "execute_result"
    }
   ],
   "source": [
    "file.readlines()"
   ]
  },
  {
   "cell_type": "code",
   "execution_count": 60,
   "id": "41ff58a1-6aa9-47ca-af9a-2489312d4253",
   "metadata": {},
   "outputs": [],
   "source": [
    "#Question.6\n",
    "with open(\"open.files\",'w')as f:\n",
    "    f.write(\"this is my open file\")"
   ]
  },
  {
   "cell_type": "code",
   "execution_count": 61,
   "id": "62590925-e674-4785-a5c7-d594360cd369",
   "metadata": {},
   "outputs": [],
   "source": [
    "with open(\"output.txt\",'w')as f:\n",
    "    f.write(\"this is my first line.\\n\")\n",
    "    f.write(\"this is my second line\\n\")"
   ]
  },
  {
   "cell_type": "code",
   "execution_count": 62,
   "id": "f09f786f-b6cf-43a5-8dd9-452a9d4b46dd",
   "metadata": {},
   "outputs": [],
   "source": [
    "#question.5\n",
    "#without with statement the resourses have not given when we take the closed file for eg:-\n",
    "f=open(\"with.file\",'w')"
   ]
  },
  {
   "cell_type": "code",
   "execution_count": 63,
   "id": "b0d21953-22b4-49eb-967a-22ded2917b85",
   "metadata": {},
   "outputs": [
    {
     "data": {
      "text/plain": [
       "17"
      ]
     },
     "execution_count": 63,
     "metadata": {},
     "output_type": "execute_result"
    }
   ],
   "source": [
    "f.write(\"this is with file\") #without with file the resources are not give"
   ]
  },
  {
   "cell_type": "code",
   "execution_count": 64,
   "id": "78f66e1f-4759-43bb-bbab-efed12ec8447",
   "metadata": {},
   "outputs": [],
   "source": [
    "f.close() #so we take the closed file then resources give"
   ]
  },
  {
   "cell_type": "code",
   "execution_count": 66,
   "id": "bc64c101-d889-475b-8420-1255b0b67944",
   "metadata": {},
   "outputs": [],
   "source": [
    "#statement to take 'with' file\n",
    "with open(\"external.txt\",'w')as f:\n",
    "    f.write(\"this is my external file\") #wh"
   ]
  },
  {
   "cell_type": "code",
   "execution_count": null,
   "id": "548f8745-1a26-4f9c-a3a4-c109100c5767",
   "metadata": {},
   "outputs": [],
   "source": []
  }
 ],
 "metadata": {
  "kernelspec": {
   "display_name": "Python 3 (ipykernel)",
   "language": "python",
   "name": "python3"
  },
  "language_info": {
   "codemirror_mode": {
    "name": "ipython",
    "version": 3
   },
   "file_extension": ".py",
   "mimetype": "text/x-python",
   "name": "python",
   "nbconvert_exporter": "python",
   "pygments_lexer": "ipython3",
   "version": "3.10.8"
  }
 },
 "nbformat": 4,
 "nbformat_minor": 5
}
